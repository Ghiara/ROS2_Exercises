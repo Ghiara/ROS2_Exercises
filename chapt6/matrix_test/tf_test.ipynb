{
 "cells": [
  {
   "cell_type": "code",
   "execution_count": null,
   "metadata": {},
   "outputs": [],
   "source": [
    "import rclpy\n",
    "from rclpy.node import Node\n",
    "from geometry_msgs.msg import TransformStamped\n",
    "from tf2_ros import StaticTransformBroadcaster\n",
    "\n",
    "rclpy.init()\n",
    "node = Node(\"transform_node\")\n",
    "\n",
    "static_tf_pub = StaticTransformBroadcaster(node)\n",
    "\n",
    "t = TransformStamped()\n",
    "t.header.stamp = node.get_clock().now().to_msg()\n",
    "t.header.frame_id = 'B'\n",
    "t.child_frame_id = 'C'\n",
    "t.transform.translation.x = 0.0\n",
    "t.transform.translation.y = 0.0\n",
    "t.transform.translation.z = 3.0\n",
    "\n",
    "t.transform.rotation.x = 1.0\n",
    "t.transform.rotation.y = 0.0\n",
    "t.transform.rotation.z = 0.0\n",
    "t.transform.rotation.w = 0.0\n"
   ]
  },
  {
   "cell_type": "code",
   "execution_count": null,
   "metadata": {},
   "outputs": [],
   "source": [
    "static_tf_pub.sendTransform(t)"
   ]
  },
  {
   "cell_type": "code",
   "execution_count": null,
   "metadata": {},
   "outputs": [],
   "source": [
    "!ros2 run tf2_ros tf2_echo B C"
   ]
  },
  {
   "cell_type": "code",
   "execution_count": null,
   "metadata": {},
   "outputs": [],
   "source": [
    "import rclpy\n",
    "from rclpy.node import Node\n",
    "from geometry_msgs.msg import TransformStamped\n",
    "from tf2_ros import TransformBroadcaster\n",
    "\n",
    "rclpy.init()\n",
    "node = Node(\"transform_node2\")\n",
    "\n",
    "tf_pub = TransformBroadcaster(node)\n",
    "\n",
    "t = TransformStamped()\n",
    "t.header.stamp = node.get_clock().now().to_msg()\n",
    "t.header.frame_id = 'C'\n",
    "t.child_frame_id = 'P'\n",
    "t.transform.translation.x = 2.0\n",
    "t.transform.translation.y = 1.0\n",
    "t.transform.translation.z = 2.0\n",
    "\n",
    "t.transform.rotation.x = 1.0\n",
    "t.transform.rotation.y = 0.0\n",
    "t.transform.rotation.z = 0.0\n",
    "t.transform.rotation.w = 0.0"
   ]
  },
  {
   "cell_type": "code",
   "execution_count": null,
   "metadata": {},
   "outputs": [],
   "source": [
    "def send_transform():\n",
    "    t.header.stamp = node.get_clock().now().to_msg()\n",
    "    tf_pub.sendTransform(t)\n",
    "node.create_timer(0.1, send_transform)\n",
    "rclpy.spin(node)"
   ]
  },
  {
   "cell_type": "code",
   "execution_count": null,
   "metadata": {},
   "outputs": [],
   "source": []
  }
 ],
 "metadata": {
  "kernelspec": {
   "display_name": "Python 3.10.4 64-bit",
   "language": "python",
   "name": "python3"
  },
  "language_info": {
   "codemirror_mode": {
    "name": "ipython",
    "version": 3
   },
   "file_extension": ".py",
   "mimetype": "text/x-python",
   "name": "python",
   "nbconvert_exporter": "python",
   "pygments_lexer": "ipython3",
   "version": "3.10.4"
  },
  "orig_nbformat": 4,
  "vscode": {
   "interpreter": {
    "hash": "916dbcbb3f70747c44a77c7bcd40155683ae19c65e1c03b4aa3499c5328201f1"
   }
  }
 },
 "nbformat": 4,
 "nbformat_minor": 2
}
