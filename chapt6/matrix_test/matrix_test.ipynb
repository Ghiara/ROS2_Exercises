{
 "cells": [
  {
   "cell_type": "code",
   "execution_count": 4,
   "metadata": {},
   "outputs": [
    {
     "data": {
      "text/plain": [
       "array([[0., 0., 0.],\n",
       "       [0., 0., 0.],\n",
       "       [0., 0., 0.]])"
      ]
     },
     "execution_count": 4,
     "metadata": {},
     "output_type": "execute_result"
    }
   ],
   "source": [
    "import numpy as np\n",
    "\n",
    "np.identity(3)\n",
    "np.zeros([3,3])\n"
   ]
  },
  {
   "cell_type": "code",
   "execution_count": 5,
   "metadata": {},
   "outputs": [
    {
     "data": {
      "text/plain": [
       "array([[0.84754858, 0.58438268, 0.56915541],\n",
       "       [0.14727629, 0.8207591 , 0.37446578],\n",
       "       [0.19977721, 0.51951161, 0.0363234 ]])"
      ]
     },
     "execution_count": 5,
     "metadata": {},
     "output_type": "execute_result"
    }
   ],
   "source": [
    "np.random.rand(3,3)"
   ]
  },
  {
   "cell_type": "code",
   "execution_count": 6,
   "metadata": {},
   "outputs": [
    {
     "data": {
      "text/plain": [
       "array([[1, 2],\n",
       "       [3, 4]])"
      ]
     },
     "execution_count": 6,
     "metadata": {},
     "output_type": "execute_result"
    }
   ],
   "source": [
    "np.asanyarray([1,2,3,4]).reshape(2,2)"
   ]
  },
  {
   "cell_type": "code",
   "execution_count": 7,
   "metadata": {},
   "outputs": [
    {
     "name": "stdout",
     "output_type": "stream",
     "text": [
      "[[-2.   1. ]\n",
      " [ 1.5 -0.5]]\n",
      "[[1.00000000e+00 1.11022302e-16]\n",
      " [0.00000000e+00 1.00000000e+00]]\n"
     ]
    }
   ],
   "source": [
    "A = np.asarray([1,2,3,4]).reshape(2,2)\n",
    "A_INV = np.linalg.inv(A)\n",
    "print(A_INV)\n",
    "print(np.dot(A,A_INV))"
   ]
  },
  {
   "cell_type": "code",
   "execution_count": null,
   "metadata": {},
   "outputs": [],
   "source": [
    "# pose describtion\n",
    "\n",
    "np.asarray([1.0,1.0,1.0]).reshape(3,1)\n"
   ]
  },
  {
   "cell_type": "code",
   "execution_count": 8,
   "metadata": {},
   "outputs": [
    {
     "name": "stdout",
     "output_type": "stream",
     "text": [
      "[[ 0.70710678 -0.70710678  0.        ]\n",
      " [ 0.70710678  0.70710678  0.        ]\n",
      " [ 0.          0.          1.        ]]\n"
     ]
    }
   ],
   "source": [
    "import math\n",
    "import numpy as np\n",
    "theta = math.radians(45)\n",
    "R_AB = np.asarray([math.cos(theta), -math.sin(theta), 0,\n",
    "                   math.sin(theta), math.cos(theta),  0,\n",
    "                   0,               0,                1\n",
    "                  ]).reshape(3,3)\n",
    "print(R_AB)\n"
   ]
  },
  {
   "cell_type": "code",
   "execution_count": 9,
   "metadata": {},
   "outputs": [
    {
     "name": "stdout",
     "output_type": "stream",
     "text": [
      "旋转矩阵R_BP：\n",
      " [[ 1.  0.  0.]\n",
      " [ 0. -1. -0.]\n",
      " [ 0.  0. -1.]]\n"
     ]
    }
   ],
   "source": [
    "import math\n",
    "import numpy as np\n",
    "theta = math.radians(180)\n",
    "# x axis 180 grad\n",
    "R_BC = np.asarray([1,0,0,\n",
    "                   0,math.cos(theta),-math.sin(theta),\n",
    "                   0,math.sin(theta),math.cos(theta)]).reshape(3,3)\n",
    "R_BP = R_BC*np.identity(3)\n",
    "print(\"旋转矩阵R_BP：\\n\",R_BP)\n"
   ]
  },
  {
   "cell_type": "code",
   "execution_count": 10,
   "metadata": {},
   "outputs": [
    {
     "name": "stdout",
     "output_type": "stream",
     "text": [
      "位置矢量P_BP:\n",
      " [[ 2. -1.  1.]]\n"
     ]
    }
   ],
   "source": [
    "P_BC = np.asarray([0,0,3]).reshape(3,1)\n",
    "P_CP = np.asarray([2,1,2]).reshape(3,1)\n",
    "P_BP = np.add(np.dot(R_BC,P_CP),P_BC)\n",
    "print(\"位置矢量P_BP:\\n\",P_BP.T)\n"
   ]
  },
  {
   "cell_type": "code",
   "execution_count": 13,
   "metadata": {},
   "outputs": [
    {
     "data": {
      "text/plain": [
       "(array([0., 0., 1.]), 0.0)"
      ]
     },
     "execution_count": 13,
     "metadata": {},
     "output_type": "execute_result"
    }
   ],
   "source": [
    "import transforms3d as tfs\n",
    "import numpy as np \n",
    "# 四元数转旋转矩阵\n",
    "tfs.quaternions.quat2mat([1,0,0,0])\n",
    "# 旋转矩阵转四元数\n",
    "tfs.quaternions.mat2quat(np.asarray([[1., 0., 0.],[0., 1., 0.],[0., 0., 1.]]))\n",
    "# 固定轴欧拉角转四元数\n",
    "tfs.euler.euler2quat(0,0,0,\"sxyz\")\n",
    "# 四元数转固定轴欧拉角\n",
    "tfs.euler.quat2euler([1,0,0,0],\"sxyz\")\n",
    "# 固定轴欧拉角转旋转矩阵\n",
    "tfs.euler.euler2mat(0,0,0,\"sxyz\")\n",
    "# 旋转矩阵转固定轴欧拉角\n",
    "tfs.euler.mat2euler(np.asarray([[1., 0., 0.],[0., 1., 0.],[0., 0., 1.]]),\"sxyz\")\n",
    "# 固定轴欧拉角轴角\n",
    "tfs.euler.euler2axangle(0,0,0,\"sxyz\")\n",
    "# 轴角转固定轴欧拉角\n",
    "tfs.euler.axangle2euler([1,0,0],0.5,\"sxyz\")\n",
    "# 轴角转旋转矩阵\n",
    "tfs.axangles.axangle2mat([1,0,0],0.5)\n",
    "# 旋转矩阵转轴角\n",
    "tfs.axangles.mat2axangle(np.asarray([[1., 0., 0.],[0., 1., 0.],[0., 0., 1.]]))"
   ]
  },
  {
   "cell_type": "code",
   "execution_count": null,
   "metadata": {},
   "outputs": [],
   "source": []
  }
 ],
 "metadata": {
  "kernelspec": {
   "display_name": "Python 3.10.4 64-bit",
   "language": "python",
   "name": "python3"
  },
  "language_info": {
   "codemirror_mode": {
    "name": "ipython",
    "version": 3
   },
   "file_extension": ".py",
   "mimetype": "text/x-python",
   "name": "python",
   "nbconvert_exporter": "python",
   "pygments_lexer": "ipython3",
   "version": "3.10.4"
  },
  "orig_nbformat": 4,
  "vscode": {
   "interpreter": {
    "hash": "916dbcbb3f70747c44a77c7bcd40155683ae19c65e1c03b4aa3499c5328201f1"
   }
  }
 },
 "nbformat": 4,
 "nbformat_minor": 2
}
